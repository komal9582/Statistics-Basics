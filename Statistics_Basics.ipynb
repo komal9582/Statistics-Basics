{
  "cells": [
    {
      "cell_type": "markdown",
      "source": [
        "#Statistics Basics"
      ],
      "metadata": {
        "id": "Nb_VONjPjDHu"
      }
    },
    {
      "cell_type": "markdown",
      "source": [
        "Question 1: What is the difference between descriptive statistics and inferential\n",
        "statistics? Explain with examples.\n",
        "\n",
        "  >. Descriptive Statistics: summarizes ans describes data collect. It focuses only on the dataset at hand.\n",
        "\n",
        "  >Example: Average marks of students in a class or percentage of males and female in survey.\n",
        "    \n",
        "  >Tool: Mean, Median, Mode, Standard, Graphs etc.\n",
        "\n",
        "   . Inferential Statistics: Used data from a sample to make prediction / generalization about a larger population.\n",
        "\n",
        "  >Example: Predicting election results from a survey of 1,000 voters.\n",
        "\n",
        "  >Tool: Hypothesis Testing, Confidence Intervals, Regression Analysis."
      ],
      "metadata": {
        "id": "KBM8SCBPjDBF"
      }
    },
    {
      "cell_type": "markdown",
      "source": [
        "Question 2: What is sampling in statistics? Explain the differences between random and stratified sampling.\n",
        "\n",
        "  >. Sampling: Selecting a samller group (sample) from a larger group (population) to study.\n",
        "   . Purpose: Saves time and cost.\n",
        "\n",
        "  >. Random Sampling: Every individual has an equal chance of being chosen.\n",
        "  \n",
        "   .Example: Picking 100 students randomly from a school.\n",
        "\n",
        "  >. Stratified Sampling: population is divided into groups (strata) bsed on characteristics (e.g., age, gender), then samples are taken from each group.\n",
        "\n",
        "  Example: Picking students from each grade in school to ensure representation.\n",
        "\n"
      ],
      "metadata": {
        "id": "-PciDR30jC6h"
      }
    },
    {
      "cell_type": "markdown",
      "source": [
        "Question 3: Define mean, median, and mode. Explain why these measures of central\n",
        "tendency are important.\n",
        "\n",
        "  >. Mean(Average): Sum of all values / Number of values.\n",
        "\n",
        "  >. Median: Middle value when data is sorted.\n",
        "\n",
        "  >. Most frequently occurring value.\n",
        "\n",
        "\n",
        "  > They represent the center of the dataset and help us understand \"typical\" values, detect skewness and compare dataset."
      ],
      "metadata": {
        "id": "A7NApuKejC0P"
      }
    },
    {
      "cell_type": "markdown",
      "source": [
        "Question 4: Explain skewness and kurtosis. What does a positive skew imply about the data?\n",
        "\n",
        "  >>. Skewness: Measure a symmetry of distribution.\n",
        "\n",
        "  . Positive skew (Right-skewed): Tail is longer on the right. (income data)\n",
        "\n",
        "  . Negative skew (Left-skewed): Tail is longer on the left.\n",
        "\n",
        " >>. Kurtosis: Measure \"peakedness\" of distribution.\n",
        "\n",
        "   . High kurtosis: More outlier, sharp peak.\n",
        "\n",
        "   . Low kurtosis: Flat distribution."
      ],
      "metadata": {
        "id": "SN0krKVOjCt-"
      }
    },
    {
      "cell_type": "markdown",
      "source": [
        "Question 5: Implement a Python program to compute the mean, median, and mode of\n",
        "a given list of numbers.\n",
        "\n",
        "\n",
        "numbers = [12, 15, 12, 18, 19, 12, 20, 22, 19, 19, 24, 24, 24, 26, 28]"
      ],
      "metadata": {
        "id": "iS_mS2jcjCod"
      }
    },
    {
      "cell_type": "code",
      "source": [
        "import statistics as stats\n",
        "\n",
        "numbers = [12, 15, 12, 18, 19, 12, 20, 22, 19, 19, 24, 24, 24, 26, 28]\n",
        "\n",
        "mean_val = stats.mean(numbers)\n",
        "median_val = stats.median(numbers)\n",
        "mode_val = stats.mode(numbers)\n",
        "\n",
        "print(\"Mean\", mean_val)\n",
        "print(\"Median\", median_val)\n",
        "print(\"Mode\", mode_val)"
      ],
      "metadata": {
        "colab": {
          "base_uri": "https://localhost:8080/"
        },
        "id": "58eXZ8vVtYXG",
        "outputId": "52df511d-e1a6-4474-a50c-dc9461a99bfc"
      },
      "execution_count": 2,
      "outputs": [
        {
          "output_type": "stream",
          "name": "stdout",
          "text": [
            "Mean 19.6\n",
            "Median 19\n",
            "Mode 12\n"
          ]
        }
      ]
    },
    {
      "cell_type": "markdown",
      "source": [
        "Question 6: Compute the covariance and correlation coefficient between the following two datasets provided as lists in Python:\n",
        "\n",
        "list_x = [10, 20, 30, 40, 50]\n",
        "\n",
        "list_y = [15, 25, 35, 45, 60]"
      ],
      "metadata": {
        "id": "oQ0lH6DUjCiS"
      }
    },
    {
      "cell_type": "code",
      "source": [
        "import numpy as np\n",
        "\n",
        "list_x = [10, 20, 30, 40, 50]\n",
        "list_y = [15, 25, 35, 45, 60]\n",
        "\n",
        "# Covariance\n",
        "cov_matrix = np.cov(list_x, list_y, bias=True)\n",
        "cov_xy = cov_matrix[0][1]\n",
        "\n",
        "#correlation\n",
        "corr = np.corrcoef(list_x, list_y)[0][1]\n",
        "\n",
        "print(\"Covariance:\", cov_xy)\n",
        "print(\"Correlation coefficient\", corr)"
      ],
      "metadata": {
        "colab": {
          "base_uri": "https://localhost:8080/"
        },
        "id": "HFde8ot6uVK9",
        "outputId": "79a65ef2-6eb8-4eb0-c2a2-21dff0600c1f"
      },
      "execution_count": 4,
      "outputs": [
        {
          "output_type": "stream",
          "name": "stdout",
          "text": [
            "Covariance: 220.0\n",
            "Correlation coefficient 0.995893206467704\n"
          ]
        }
      ]
    },
    {
      "cell_type": "markdown",
      "source": [
        "Question 7: Write a Python script to draw a boxplot for the following numeric list and identify its outliers.\n",
        "\n",
        "Explain the result:\n",
        "\n",
        "data = [12, 14, 14, 15, 18, 19, 19, 21, 22, 22, 23, 23, 24, 26, 29, 35]\n"
      ],
      "metadata": {
        "id": "47FbC0ZoknGg"
      }
    },
    {
      "cell_type": "markdown",
      "source": [
        ". Boxplot shoes medain, quartiles, and outlier.\n",
        "\n",
        ". If any point lies outside whisker(1.5 * IQR), its an outlier.\n",
        "\n",
        ". In this dataset, 35 is an outlier."
      ],
      "metadata": {
        "id": "rOwXcBmCwz_k"
      }
    },
    {
      "cell_type": "code",
      "source": [
        "import matplotlib.pyplot as plt\n",
        "\n",
        "data = [12, 14, 14, 15, 18, 19, 19, 21, 22, 22, 23, 23, 24, 26, 29, 35]\n",
        "\n",
        "plt.boxplot(data)\n",
        "plt.title(\"Boxplot of Data\")\n",
        "plt.show()"
      ],
      "metadata": {
        "colab": {
          "base_uri": "https://localhost:8080/",
          "height": 452
        },
        "id": "AZsskq9NwPsO",
        "outputId": "41409e44-02b3-4e4a-d0f6-842ddeb123cd"
      },
      "execution_count": 5,
      "outputs": [
        {
          "output_type": "display_data",
          "data": {
            "text/plain": [
              "<Figure size 640x480 with 1 Axes>"
            ],
            "image/png": "[encoded data removed]"
          },
          "metadata": {}
        }
      ]
    },
    {
      "cell_type": "markdown",
      "source": [
        "Question 8: You are working as a data analyst in an e-commerce company. The\n",
        "marketing team wants to know if there is a relationship between advertising spend and\n",
        "daily sales.\n",
        "\n",
        "● Explain how you would use covariance and correlation to explore this\n",
        "relationship.\n",
        "\n",
        "● Write Python code to compute the correlation between the two lists:\n",
        "\n",
        "advertising_spend = [200, 250, 300, 400, 500]\n",
        "\n",
        "daily_sales = [2200, 2450, 2750, 3200, 4000]\n"
      ],
      "metadata": {
        "id": "JGLVEUe-jCai"
      }
    },
    {
      "cell_type": "markdown",
      "source": [
        ". **Covariance:** Show direction of relationship (Positive/Negative).\n",
        "\n",
        ". **correlation:** Standardized measure (-1 to +1). Show strength of relationship."
      ],
      "metadata": {
        "id": "NI3qo7UbxZmF"
      }
    },
    {
      "cell_type": "code",
      "source": [
        "import numpy as np\n",
        "\n",
        "advertising_spend = [200, 250, 300, 400, 500]\n",
        "daily_sales = [2200, 2450, 2750, 3200, 4000]\n",
        "\n",
        "cov_matrix = np.cov(advertising_spend, daily_sales, bias=True)\n",
        "cov_xy = cov_matrix[0][1]\n",
        "\n",
        "corr = np.corrcoef(advertising_spend, daily_sales)[0][1]\n",
        "\n",
        "print(\"Covariance:\", cov_xy)\n",
        "print(\"Correlation coefficient\", corr)"
      ],
      "metadata": {
        "colab": {
          "base_uri": "https://localhost:8080/"
        },
        "id": "omsJul9exUSf",
        "outputId": "76f9a6ba-a6af-4934-ea0f-c06c5b61899c"
      },
      "execution_count": 9,
      "outputs": [
        {
          "output_type": "stream",
          "name": "stdout",
          "text": [
            "Covariance: 67900.0\n",
            "Correlation coefficient 0.9935824101653329\n"
          ]
        }
      ]
    },
    {
      "cell_type": "markdown",
      "source": [
        "Question 9: Your team has collected customer satisfaction survey data on a scale of 1-10 and wants to understand its distribution before launching a new product.\n",
        "\n",
        "● Explain which summary statistics and visualizations (e.g. mean, standard deviation, histogram) you’d use.\n",
        "\n",
        "● Write Python code to create a histogram using Matplotlib for the survey data:\n",
        "\n",
        "survey_scores = [7, 8, 5, 9, 6, 7, 8, 9, 10, 4, 7, 6, 9, 8, 7]"
      ],
      "metadata": {
        "id": "A1VWk8C2jCUK"
      }
    },
    {
      "cell_type": "code",
      "source": [
        "import matplotlib.pyplot as plt\n",
        "import statistics as stats\n",
        "\n",
        "survey_scores = [7, 8, 5, 9, 6, 7, 8, 9, 10, 4, 7, 6, 9, 8, 7]\n",
        "\n",
        "mean_val = stats.mean(survey_scores)\n",
        "std_dev = stats.stdev(survey_scores)\n",
        "\n",
        "print(\"mean\", mean_val)\n",
        "print(\"Standared Deviation\", std_dev)\n",
        "\n",
        "plt.hist(survey_scores, bins=6, edgecolor='black')\n",
        "plt.title(\"Histogram of customer survey scores\")\n",
        "plt.xlabel(\"Scores\")\n",
        "plt.ylabel(\"Frequency\")\n",
        "plt.show()"
      ],
      "metadata": {
        "colab": {
          "base_uri": "https://localhost:8080/",
          "height": 507
        },
        "id": "_DIrQbEpzdzt",
        "outputId": "c7fa8b9f-a49c-40e7-a6a5-f3ea98d1b262"
      },
      "execution_count": 12,
      "outputs": [
        {
          "output_type": "stream",
          "name": "stdout",
          "text": [
            "mean 7.333333333333333\n",
            "Standared Deviation 1.632993161855452\n"
          ]
        },
        {
          "output_type": "display_data",
          "data": {
            "text/plain": [
              "<Figure size 640x480 with 1 Axes>"
            ],
            "image/png": "[encoded data removed]"
          },
          "metadata": {}
        }
      ]
    }
  ],
  "metadata": {
    "colab": {
      "provenance": []
    },
    "kernelspec": {
      "display_name": "Python 3",
      "name": "python3"
    }
  },
  "nbformat": 4,
  "nbformat_minor": 0
}